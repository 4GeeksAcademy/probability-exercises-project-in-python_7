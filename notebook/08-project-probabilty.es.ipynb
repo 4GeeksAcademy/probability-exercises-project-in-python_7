{
 "cells": [
  {
   "cell_type": "markdown",
   "id": "a41f3622",
   "metadata": {},
   "source": [
    "# Ejercicios de probabilidad"
   ]
  },
  {
   "cell_type": "code",
   "execution_count": 3,
   "id": "a327a73d690229d3",
   "metadata": {},
   "outputs": [],
   "source": [
    "# Importamos librerias\n",
    "import random"
   ]
  },
  {
   "cell_type": "markdown",
   "id": "a6bdbd89",
   "metadata": {},
   "source": [
    "## Ejercicio 1 \n",
    "\n",
    "Dos dados se lanzan una vez y se observa el total obtenido. Usa una simulación para encontrar la probabilidad estimada de que la puntuación sea mayor a 7 o un número par. Una simulación es una repetición del mismo experimento multiples veces para observar su comportamiento:\n",
    "\n",
    "- Ejecuta el experimento 1000 veces (lanza 2 dados 1000 veces, y suma el número de ambos dados).\n",
    "- Lleva ua cuenta de los números y las veces que la suma fue mayor a 7 o un número par.\n",
    "- Divide el número del paso 2 entre el número de iteraciones(1000).\n",
    "- Escribe tus observaciones o conclusiones"
   ]
  },
  {
   "cell_type": "code",
   "execution_count": 38,
   "id": "8939d892",
   "metadata": {},
   "outputs": [
    {
     "data": {
      "text/plain": [
       "'LA probabilidad de que la suma de los dados se par y que sumen más de 7 es 67.4%'"
      ]
     },
     "execution_count": 38,
     "metadata": {},
     "output_type": "execute_result"
    }
   ],
   "source": [
    "lanzamientos = 1000\n",
    "conteo = 0\n",
    "\n",
    "for i in range(lanzamientos):\n",
    "    dado_uno = random.randint(1, 6)\n",
    "    dado_dos = random.randint(1, 6)\n",
    "\n",
    "    suma_valores = dado_uno + dado_dos\n",
    "\n",
    "    if (suma_valores % 2 == 0) or (suma_valores > 7):\n",
    "            conteo += 1\n",
    "\n",
    "conteo = round((conteo / lanzamientos) * 100, 2)\n",
    "result = f\"LA probabilidad de que la suma de los dados se par y que sumen más de 7 es {conteo}%\"  \n",
    "result\n"
   ]
  },
  {
   "cell_type": "markdown",
   "id": "eb43a3bc",
   "metadata": {},
   "source": [
    "El cálculo arroja un resultado superior del 60% la mayoría de las veces ejecutado ya que es bastante probable obtener cualquier de las dos condiciones a cumplir."
   ]
  },
  {
   "cell_type": "markdown",
   "id": "55732bca",
   "metadata": {},
   "source": [
    "## Ejercicio 2\n",
    "\n",
    "Una caja contiene 10 bolas blancas, 20 bolas rojas y 30 bolas verdes. Si tomamos 5 bolas de la caja reemplazándolas (tomando una bola, anotando el color y luego regresandola a la caja). Queremos saber la probabilidad de:\n",
    "\n",
    "1. Tomar 3 blancas y 2 rojas.\n",
    "2. Toas todas del mismo color.\n",
    "\n",
    "- Ejecuta el experimento 1000 veces y calcula las probabilidades que mencionadas.\n",
    "- Escribe tus observaciones o conclusiones"
   ]
  },
  {
   "cell_type": "code",
   "execution_count": 5,
   "id": "23244d20",
   "metadata": {},
   "outputs": [],
   "source": [
    "ball_box = {}"
   ]
  },
  {
   "cell_type": "code",
   "execution_count": 19,
   "id": "614230a4546d75d4",
   "metadata": {},
   "outputs": [
    {
     "data": {
      "text/plain": [
       "'Las probabilidad de cojer 3 bolas blancas y 2 rojas son 4.80% y de obtener todas del mismo color 3.20%'"
      ]
     },
     "execution_count": 19,
     "metadata": {},
     "output_type": "execute_result"
    }
   ],
   "source": [
    "# Crea la funcion que hara las pruebas de probabilidadd\n",
    "def prob(simulaciones):\n",
    "\n",
    "    #Crear la caja de bolas\n",
    "    ball_box = [\"White\" if i < 10 else \"Red\" if (i > 9) and (i < 30) else \"Green\" for i in range(60)]  \n",
    "\n",
    "    #Crear los contadores de muestreo\n",
    "    three_white_two_red = 0\n",
    "    all_same_color = 0\n",
    "\n",
    "    #ejecutamos el experimentos\n",
    "    for foo in range(simulaciones):\n",
    "\n",
    "        #se toman las 5 bolas\n",
    "        take= [random.choice(ball_box) for bar in range(5)]\n",
    "\n",
    "        #se cuentan las bolas\n",
    "        white = take.count('White')\n",
    "        red = take.count('Red')\n",
    "        green = take.count('Green')\n",
    "\n",
    "        #condiciones\n",
    "        if white == 3 & red == 2:\n",
    "            three_white_two_red += 1\n",
    "        if red == 5 or white == 5 or green == 5:\n",
    "            all_same_color += 1\n",
    "        \n",
    "    prob_three_white_two_red = three_white_two_red /simulaciones\n",
    "    prob_all_same_color = all_same_color /simulaciones\n",
    "\n",
    "    return f\"Las probabilidad de cojer 3 bolas blancas y 2 rojas son {prob_three_white_two_red * 100:.2f}% y de obtener todas del mismo color {prob_all_same_color * 100:.2f}%\"\n",
    "\n",
    "\n",
    "prob(1000)\n",
    "\n",
    "\n",
    "\n",
    "\n",
    "\n",
    "        \n",
    "\n"
   ]
  },
  {
   "cell_type": "markdown",
   "id": "8f74bc72",
   "metadata": {},
   "source": [
    "LAs probabilidades de obtener 3 bolas blancas y dos rojas es bastante baja ya que se dispone de pocas bolas blancas y rojas sobre el total. Por otra parte, aún es más imporbable obtener las 5 bolas del mismo color."
   ]
  }
 ],
 "metadata": {
  "kernelspec": {
   "display_name": "Python 3",
   "language": "python",
   "name": "python3"
  },
  "language_info": {
   "codemirror_mode": {
    "name": "ipython",
    "version": 3
   },
   "file_extension": ".py",
   "mimetype": "text/x-python",
   "name": "python",
   "nbconvert_exporter": "python",
   "pygments_lexer": "ipython3",
   "version": "3.11.4"
  }
 },
 "nbformat": 4,
 "nbformat_minor": 5
}
